{
 "cells": [
  {
   "cell_type": "code",
   "execution_count": 1,
   "metadata": {},
   "outputs": [],
   "source": [
    "import pandas as pd\n",
    "import numpy as np\n",
    "import matplotlib.pyplot as plt\n",
    "from sklearn.decomposition import PCA\n",
    "from sklearn.model_selection import train_test_split\n"
   ]
  },
  {
   "cell_type": "code",
   "execution_count": 2,
   "metadata": {},
   "outputs": [],
   "source": [
    "data = pd.read_csv('./data.csv', encoding =  'UTF-8')"
   ]
  },
  {
   "cell_type": "code",
   "execution_count": 3,
   "metadata": {},
   "outputs": [
    {
     "name": "stderr",
     "output_type": "stream",
     "text": [
      "c:\\users\\yidi\\appdata\\local\\programs\\python\\python37\\lib\\site-packages\\sklearn\\model_selection\\_split.py:2179: FutureWarning: From version 0.21, test_size will always complement train_size unless both are specified.\n",
      "  FutureWarning)\n"
     ]
    }
   ],
   "source": [
    "data\n",
    "X = data.iloc[:, 0:4]\n",
    "Y = data.iloc[:, 5]\n",
    "X = (X - X.mean())/np.std(X)\n",
    "Y = (Y - Y.mean())/np.std(Y)\n",
    "X_train, X_test, Y_train, Y_test = train_test_split(X,Y,train_size=0.7, random_state=1)"
   ]
  },
  {
   "cell_type": "code",
   "execution_count": 4,
   "metadata": {},
   "outputs": [
    {
     "data": {
      "text/plain": [
       "array([[ 1.570424  , -0.93829933],\n",
       "       [-2.30291629, -0.77854422],\n",
       "       [ 1.08351187,  1.16012196],\n",
       "       [ 0.32295353,  0.12070028],\n",
       "       [-2.42997178, -1.28607699],\n",
       "       [ 0.94438602,  1.02459601],\n",
       "       [-2.32801688, -0.77829169],\n",
       "       [-2.16486222, -0.67454388],\n",
       "       [-1.93978149,  0.1724962 ],\n",
       "       [ 0.01967437, -0.11280316],\n",
       "       [-1.32073297,  0.75801798],\n",
       "       [-1.97618471, -0.58105161],\n",
       "       [-2.40838564, -1.22822222],\n",
       "       [ 1.76706079, -0.97252849],\n",
       "       [ 0.72709636,  1.02691268],\n",
       "       [ 0.04243175,  0.80995503],\n",
       "       [ 0.04285174,  1.64586828],\n",
       "       [-0.56489392, -0.43367922],\n",
       "       [ 0.76723663,  1.11295505],\n",
       "       [ 2.05694611, -0.59451562],\n",
       "       [ 1.09836063, -0.50078143],\n",
       "       [ 0.36992529,  1.66065839],\n",
       "       [ 0.06051041,  1.56617018],\n",
       "       [-1.85288098,  1.97653715],\n",
       "       [-2.34741203, -1.22598376],\n",
       "       [-1.87922031,  0.17743686],\n",
       "       [ 1.09024765,  1.25227001],\n",
       "       [-2.57313034, -1.28851827],\n",
       "       [ 0.86909685,  1.12346043],\n",
       "       [ 0.81787884,  1.20212348],\n",
       "       [ 2.39110855, -0.8672501 ],\n",
       "       [-2.15215927,  1.44698343],\n",
       "       [ 1.77843682, -0.8036404 ],\n",
       "       [-2.52008806, -1.31471821],\n",
       "       [ 2.8243233 , -0.28218367],\n",
       "       [ 0.71865329,  0.46025756],\n",
       "       [ 1.8817035 , -0.74220526],\n",
       "       [ 0.83446377, -0.11817724],\n",
       "       [ 2.28376973, -0.72526617],\n",
       "       [ 1.29485017, -1.11822654],\n",
       "       [ 2.23823353, -0.94888151],\n",
       "       [ 1.79434283, -0.77141572],\n",
       "       [ 1.21440562, -1.07899312],\n",
       "       [-1.94424067,  1.69582372],\n",
       "       [-0.20000637, -0.22854681]])"
      ]
     },
     "execution_count": 4,
     "metadata": {},
     "output_type": "execute_result"
    }
   ],
   "source": [
    "pca = PCA(n_components='mle')\n",
    "pca.fit(X_train)\n",
    "X_train = pca.transform(X_train)\n",
    "X_train   # 经过降维之后的主成分矩阵----> 用来进行主成分回归的数\n",
    "Y_train= (Y_train - Y_train.mean())/np.std(Y)\n",
    "X_train"
   ]
  },
  {
   "cell_type": "code",
   "execution_count": 5,
   "metadata": {},
   "outputs": [],
   "source": [
    "import statsmodels.api as sm\n",
    "ols = sm.OLS(Y_train, X_train).fit()"
   ]
  },
  {
   "cell_type": "code",
   "execution_count": 6,
   "metadata": {},
   "outputs": [
    {
     "data": {
      "text/html": [
       "<table class=\"simpletable\">\n",
       "<caption>OLS Regression Results</caption>\n",
       "<tr>\n",
       "  <th>Dep. Variable:</th>            <td>y</td>        <th>  R-squared:         </th> <td>   0.933</td>\n",
       "</tr>\n",
       "<tr>\n",
       "  <th>Model:</th>                   <td>OLS</td>       <th>  Adj. R-squared:    </th> <td>   0.929</td>\n",
       "</tr>\n",
       "<tr>\n",
       "  <th>Method:</th>             <td>Least Squares</td>  <th>  F-statistic:       </th> <td>   297.6</td>\n",
       "</tr>\n",
       "<tr>\n",
       "  <th>Date:</th>             <td>Mon, 10 Jun 2019</td> <th>  Prob (F-statistic):</th> <td>6.49e-26</td>\n",
       "</tr>\n",
       "<tr>\n",
       "  <th>Time:</th>                 <td>22:29:41</td>     <th>  Log-Likelihood:    </th> <td> -4.5617</td>\n",
       "</tr>\n",
       "<tr>\n",
       "  <th>No. Observations:</th>      <td>    45</td>      <th>  AIC:               </th> <td>   13.12</td>\n",
       "</tr>\n",
       "<tr>\n",
       "  <th>Df Residuals:</th>          <td>    43</td>      <th>  BIC:               </th> <td>   16.74</td>\n",
       "</tr>\n",
       "<tr>\n",
       "  <th>Df Model:</th>              <td>     2</td>      <th>                     </th>     <td> </td>   \n",
       "</tr>\n",
       "<tr>\n",
       "  <th>Covariance Type:</th>      <td>nonrobust</td>    <th>                     </th>     <td> </td>   \n",
       "</tr>\n",
       "</table>\n",
       "<table class=\"simpletable\">\n",
       "<tr>\n",
       "   <td></td>     <th>coef</th>     <th>std err</th>      <th>t</th>      <th>P>|t|</th>  <th>[0.025</th>    <th>0.975]</th>  \n",
       "</tr>\n",
       "<tr>\n",
       "  <th>x1</th> <td>    0.5940</td> <td>    0.024</td> <td>   24.341</td> <td> 0.000</td> <td>    0.545</td> <td>    0.643</td>\n",
       "</tr>\n",
       "<tr>\n",
       "  <th>x2</th> <td>    0.0673</td> <td>    0.040</td> <td>    1.674</td> <td> 0.101</td> <td>   -0.014</td> <td>    0.148</td>\n",
       "</tr>\n",
       "</table>\n",
       "<table class=\"simpletable\">\n",
       "<tr>\n",
       "  <th>Omnibus:</th>       <td> 1.742</td> <th>  Durbin-Watson:     </th> <td>   2.091</td>\n",
       "</tr>\n",
       "<tr>\n",
       "  <th>Prob(Omnibus):</th> <td> 0.419</td> <th>  Jarque-Bera (JB):  </th> <td>   0.878</td>\n",
       "</tr>\n",
       "<tr>\n",
       "  <th>Skew:</th>          <td>-0.245</td> <th>  Prob(JB):          </th> <td>   0.645</td>\n",
       "</tr>\n",
       "<tr>\n",
       "  <th>Kurtosis:</th>      <td> 3.477</td> <th>  Cond. No.          </th> <td>    1.65</td>\n",
       "</tr>\n",
       "</table><br/><br/>Warnings:<br/>[1] Standard Errors assume that the covariance matrix of the errors is correctly specified."
      ],
      "text/plain": [
       "<class 'statsmodels.iolib.summary.Summary'>\n",
       "\"\"\"\n",
       "                            OLS Regression Results                            \n",
       "==============================================================================\n",
       "Dep. Variable:                      y   R-squared:                       0.933\n",
       "Model:                            OLS   Adj. R-squared:                  0.929\n",
       "Method:                 Least Squares   F-statistic:                     297.6\n",
       "Date:                Mon, 10 Jun 2019   Prob (F-statistic):           6.49e-26\n",
       "Time:                        22:29:41   Log-Likelihood:                -4.5617\n",
       "No. Observations:                  45   AIC:                             13.12\n",
       "Df Residuals:                      43   BIC:                             16.74\n",
       "Df Model:                           2                                         \n",
       "Covariance Type:            nonrobust                                         \n",
       "==============================================================================\n",
       "                 coef    std err          t      P>|t|      [0.025      0.975]\n",
       "------------------------------------------------------------------------------\n",
       "x1             0.5940      0.024     24.341      0.000       0.545       0.643\n",
       "x2             0.0673      0.040      1.674      0.101      -0.014       0.148\n",
       "==============================================================================\n",
       "Omnibus:                        1.742   Durbin-Watson:                   2.091\n",
       "Prob(Omnibus):                  0.419   Jarque-Bera (JB):                0.878\n",
       "Skew:                          -0.245   Prob(JB):                        0.645\n",
       "Kurtosis:                       3.477   Cond. No.                         1.65\n",
       "==============================================================================\n",
       "\n",
       "Warnings:\n",
       "[1] Standard Errors assume that the covariance matrix of the errors is correctly specified.\n",
       "\"\"\""
      ]
     },
     "execution_count": 6,
     "metadata": {},
     "output_type": "execute_result"
    }
   ],
   "source": [
    "ols.summary()"
   ]
  },
  {
   "cell_type": "code",
   "execution_count": 7,
   "metadata": {},
   "outputs": [
    {
     "data": {
      "text/plain": [
       "array([0.70103682, 0.2586647 ])"
      ]
     },
     "execution_count": 7,
     "metadata": {},
     "output_type": "execute_result"
    }
   ],
   "source": [
    "pca.explained_variance_ratio_"
   ]
  },
  {
   "cell_type": "code",
   "execution_count": 8,
   "metadata": {},
   "outputs": [
    {
     "data": {
      "text/plain": [
       "{'copy': True,\n",
       " 'iterated_power': 'auto',\n",
       " 'n_components': 'mle',\n",
       " 'random_state': None,\n",
       " 'svd_solver': 'auto',\n",
       " 'tol': 0.0,\n",
       " 'whiten': False}"
      ]
     },
     "execution_count": 8,
     "metadata": {},
     "output_type": "execute_result"
    }
   ],
   "source": [
    "pca.get_params()"
   ]
  },
  {
   "cell_type": "code",
   "execution_count": 9,
   "metadata": {},
   "outputs": [
    {
     "data": {
      "text/plain": [
       "LinearRegression(copy_X=True, fit_intercept=True, n_jobs=None,\n",
       "         normalize=False)"
      ]
     },
     "execution_count": 9,
     "metadata": {},
     "output_type": "execute_result"
    }
   ],
   "source": [
    "\n",
    "from sklearn.linear_model import LinearRegression\n",
    "lr = LinearRegression()\n",
    "lr.fit(X_train,Y_train)"
   ]
  },
  {
   "cell_type": "code",
   "execution_count": 10,
   "metadata": {},
   "outputs": [
    {
     "data": {
      "text/plain": [
       "0.9326301840968643"
      ]
     },
     "execution_count": 10,
     "metadata": {},
     "output_type": "execute_result"
    }
   ],
   "source": [
    "lr.score(X_train, Y_train)\n",
    "# X_test = data.iloc[64:, 0:4]\n",
    "# y_test = data.iloc[64:, 5]"
   ]
  },
  {
   "cell_type": "code",
   "execution_count": 11,
   "metadata": {},
   "outputs": [
    {
     "data": {
      "text/plain": [
       "array([[-1.51024245, -0.21962447],\n",
       "       [-1.71293609, -0.7144579 ],\n",
       "       [-1.73266676,  1.22094126],\n",
       "       [ 3.12792355, -0.62282555],\n",
       "       [-1.53383462,  0.70006592],\n",
       "       [-1.52774474, -0.61751499],\n",
       "       [ 1.95957121,  1.06265604],\n",
       "       [ 1.02538936,  0.96167462],\n",
       "       [-1.66458408,  1.77898767],\n",
       "       [-0.59999531, -0.69743499],\n",
       "       [ 0.46131224, -0.25488547],\n",
       "       [-0.18712547, -0.6395096 ],\n",
       "       [-2.119587  , -1.31631745],\n",
       "       [ 0.55904671, -0.25298001],\n",
       "       [-0.7278439 , -0.4330191 ],\n",
       "       [-1.87791862, -1.18051858],\n",
       "       [-1.62320808,  0.16471934],\n",
       "       [ 3.11298947, -0.74480309],\n",
       "       [ 0.52238133,  1.1746119 ],\n",
       "       [ 1.25089457,  1.03010045]])"
      ]
     },
     "execution_count": 11,
     "metadata": {},
     "output_type": "execute_result"
    }
   ],
   "source": [
    "X_test = (X_test - X_test.mean())/np.std(X_test)\n",
    "X_test = pca.transform(X_test)\n",
    "X_test"
   ]
  },
  {
   "cell_type": "code",
   "execution_count": 12,
   "metadata": {},
   "outputs": [],
   "source": [
    "y_pred = lr.predict(X_test)\n"
   ]
  },
  {
   "cell_type": "code",
   "execution_count": 13,
   "metadata": {},
   "outputs": [
    {
     "data": {
      "text/plain": [
       "51   -1.037059\n",
       "55   -1.185173\n",
       "46   -0.921221\n",
       "2     0.957926\n",
       "47   -0.884966\n",
       "53   -1.133002\n",
       "21    1.404832\n",
       "26    0.226110\n",
       "44   -0.715188\n",
       "40   -0.704134\n",
       "36    0.158906\n",
       "39   -0.300026\n",
       "63   -1.415966\n",
       "35    0.169517\n",
       "27    0.345928\n",
       "58   -1.367332\n",
       "50   -1.137865\n",
       "3     1.085083\n",
       "31    0.095239\n",
       "24    0.640387\n",
       "Name: y, dtype: float64"
      ]
     },
     "execution_count": 13,
     "metadata": {},
     "output_type": "execute_result"
    }
   ],
   "source": [
    "\n",
    "Y_test"
   ]
  },
  {
   "cell_type": "code",
   "execution_count": 14,
   "metadata": {},
   "outputs": [
    {
     "data": {
      "text/plain": [
       "array([-0.91181478, -1.06549217, -0.94703505,  1.81600913, -0.86396872,\n",
       "       -0.94897312,  1.23540678,  0.67373625, -0.86906112, -0.40329085,\n",
       "        0.25686302, -0.15416136, -1.34751326,  0.31504278, -0.46144457,\n",
       "       -1.19483491, -0.95306198,  1.79893438,  0.3892856 ,  0.81228255])"
      ]
     },
     "execution_count": 14,
     "metadata": {},
     "output_type": "execute_result"
    }
   ],
   "source": [
    "y_pred"
   ]
  },
  {
   "cell_type": "code",
   "execution_count": 15,
   "metadata": {},
   "outputs": [
    {
     "data": {
      "text/plain": [
       "Text(0, 0.5, 'The real Y')"
      ]
     },
     "execution_count": 15,
     "metadata": {},
     "output_type": "execute_result"
    },
    {
     "data": {
      "image/png": "[encoded data removed]",
      "text/plain": [
       "<Figure size 432x288 with 1 Axes>"
      ]
     },
     "metadata": {
      "needs_background": "light"
     },
     "output_type": "display_data"
    }
   ],
   "source": [
    "plt.scatter(y_pred, Y_test)\n",
    "plt.xlabel('The predicted Y of LinearRegression')\n",
    "plt.ylabel('The real Y')"
   ]
  },
  {
   "cell_type": "code",
   "execution_count": 16,
   "metadata": {},
   "outputs": [
    {
     "data": {
      "text/html": [
       "<table class=\"simpletable\">\n",
       "<caption>OLS Regression Results</caption>\n",
       "<tr>\n",
       "  <th>Dep. Variable:</th>            <td>y</td>        <th>  R-squared:         </th> <td>   0.868</td>\n",
       "</tr>\n",
       "<tr>\n",
       "  <th>Model:</th>                   <td>OLS</td>       <th>  Adj. R-squared:    </th> <td>   0.862</td>\n",
       "</tr>\n",
       "<tr>\n",
       "  <th>Method:</th>             <td>Least Squares</td>  <th>  F-statistic:       </th> <td>   125.4</td>\n",
       "</tr>\n",
       "<tr>\n",
       "  <th>Date:</th>             <td>Mon, 10 Jun 2019</td> <th>  Prob (F-statistic):</th> <td>8.25e-10</td>\n",
       "</tr>\n",
       "<tr>\n",
       "  <th>Time:</th>                 <td>22:29:42</td>     <th>  Log-Likelihood:    </th> <td> -7.7443</td>\n",
       "</tr>\n",
       "<tr>\n",
       "  <th>No. Observations:</th>      <td>    20</td>      <th>  AIC:               </th> <td>   17.49</td>\n",
       "</tr>\n",
       "<tr>\n",
       "  <th>Df Residuals:</th>          <td>    19</td>      <th>  BIC:               </th> <td>   18.48</td>\n",
       "</tr>\n",
       "<tr>\n",
       "  <th>Df Model:</th>              <td>     1</td>      <th>                     </th>     <td> </td>   \n",
       "</tr>\n",
       "<tr>\n",
       "  <th>Covariance Type:</th>      <td>nonrobust</td>    <th>                     </th>     <td> </td>   \n",
       "</tr>\n",
       "</table>\n",
       "<table class=\"simpletable\">\n",
       "<tr>\n",
       "  <td></td>     <th>coef</th>     <th>std err</th>      <th>t</th>      <th>P>|t|</th>  <th>[0.025</th>    <th>0.975]</th>  \n",
       "</tr>\n",
       "<tr>\n",
       "  <th>y</th> <td>    1.0119</td> <td>    0.090</td> <td>   11.199</td> <td> 0.000</td> <td>    0.823</td> <td>    1.201</td>\n",
       "</tr>\n",
       "</table>\n",
       "<table class=\"simpletable\">\n",
       "<tr>\n",
       "  <th>Omnibus:</th>       <td> 7.487</td> <th>  Durbin-Watson:     </th> <td>   1.953</td>\n",
       "</tr>\n",
       "<tr>\n",
       "  <th>Prob(Omnibus):</th> <td> 0.024</td> <th>  Jarque-Bera (JB):  </th> <td>   6.318</td>\n",
       "</tr>\n",
       "<tr>\n",
       "  <th>Skew:</th>          <td>-0.601</td> <th>  Prob(JB):          </th> <td>  0.0425</td>\n",
       "</tr>\n",
       "<tr>\n",
       "  <th>Kurtosis:</th>      <td> 5.477</td> <th>  Cond. No.          </th> <td>    1.00</td>\n",
       "</tr>\n",
       "</table><br/><br/>Warnings:<br/>[1] Standard Errors assume that the covariance matrix of the errors is correctly specified."
      ],
      "text/plain": [
       "<class 'statsmodels.iolib.summary.Summary'>\n",
       "\"\"\"\n",
       "                            OLS Regression Results                            \n",
       "==============================================================================\n",
       "Dep. Variable:                      y   R-squared:                       0.868\n",
       "Model:                            OLS   Adj. R-squared:                  0.862\n",
       "Method:                 Least Squares   F-statistic:                     125.4\n",
       "Date:                Mon, 10 Jun 2019   Prob (F-statistic):           8.25e-10\n",
       "Time:                        22:29:42   Log-Likelihood:                -7.7443\n",
       "No. Observations:                  20   AIC:                             17.49\n",
       "Df Residuals:                      19   BIC:                             18.48\n",
       "Df Model:                           1                                         \n",
       "Covariance Type:            nonrobust                                         \n",
       "==============================================================================\n",
       "                 coef    std err          t      P>|t|      [0.025      0.975]\n",
       "------------------------------------------------------------------------------\n",
       "y              1.0119      0.090     11.199      0.000       0.823       1.201\n",
       "==============================================================================\n",
       "Omnibus:                        7.487   Durbin-Watson:                   1.953\n",
       "Prob(Omnibus):                  0.024   Jarque-Bera (JB):                6.318\n",
       "Skew:                          -0.601   Prob(JB):                       0.0425\n",
       "Kurtosis:                       5.477   Cond. No.                         1.00\n",
       "==============================================================================\n",
       "\n",
       "Warnings:\n",
       "[1] Standard Errors assume that the covariance matrix of the errors is correctly specified.\n",
       "\"\"\""
      ]
     },
     "execution_count": 16,
     "metadata": {},
     "output_type": "execute_result"
    }
   ],
   "source": [
    "olsr = sm.OLS(y_pred, Y_test).fit()\n",
    "olsr.summary()"
   ]
  },
  {
   "cell_type": "code",
   "execution_count": null,
   "metadata": {},
   "outputs": [],
   "source": []
  }
 ],
 "metadata": {
  "kernelspec": {
   "display_name": "Python 3",
   "language": "python",
   "name": "python3"
  },
  "language_info": {
   "codemirror_mode": {
    "name": "ipython",
    "version": 3
   },
   "file_extension": ".py",
   "mimetype": "text/x-python",
   "name": "python",
   "nbconvert_exporter": "python",
   "pygments_lexer": "ipython3",
   "version": "3.7.1"
  }
 },
 "nbformat": 4,
 "nbformat_minor": 2
}
